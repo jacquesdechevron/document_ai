{
 "cells": [
  {
   "attachments": {},
   "cell_type": "markdown",
   "metadata": {},
   "source": [
    "# From HuggingFace"
   ]
  },
  {
   "cell_type": "code",
   "execution_count": 1,
   "metadata": {
    "_cell_guid": "79c7e3d0-c299-4dcb-8224-4455121ee9b0",
    "_uuid": "d629ff2d2480ee46fbb7e2d37f6b5fab8052498a",
    "execution": {
     "iopub.execute_input": "2020-08-30T10:43:36.881157Z",
     "iopub.status.busy": "2020-08-30T10:43:36.880431Z",
     "iopub.status.idle": "2020-08-30T10:43:36.887249Z",
     "shell.execute_reply": "2020-08-30T10:43:36.886492Z"
    },
    "papermill": {
     "duration": 0.018861,
     "end_time": "2020-08-30T10:43:36.887391",
     "exception": false,
     "start_time": "2020-08-30T10:43:36.868530",
     "status": "completed"
    },
    "tags": []
   },
   "outputs": [
    {
     "name": "stderr",
     "output_type": "stream",
     "text": [
      "Using custom data configuration maveriq--DocBank-87bf6d2a5da4d92e\n"
     ]
    }
   ],
   "source": [
    "from datasets import load_dataset\n",
    "\n",
    "dataset_id = \"maveriq/DocBank\"\n",
    "\n",
    "dataset = load_dataset(dataset_id, split=\"train\", streaming=\"True\")"
   ]
  },
  {
   "cell_type": "code",
   "execution_count": 3,
   "metadata": {},
   "outputs": [],
   "source": [
    "print(next(iter(dataset)))"
   ]
  }
 ],
 "metadata": {
  "kernelspec": {
   "display_name": "Python 3",
   "language": "python",
   "name": "python3"
  },
  "language_info": {
   "codemirror_mode": {
    "name": "ipython",
    "version": 3
   },
   "file_extension": ".py",
   "mimetype": "text/x-python",
   "name": "python",
   "nbconvert_exporter": "python",
   "pygments_lexer": "ipython3",
   "version": "3.10.6 (main, Aug 30 2022, 04:58:11) [Clang 13.0.0 (clang-1300.0.29.30)]"
  },
  "papermill": {
   "duration": 7.897837,
   "end_time": "2020-08-30T10:43:40.196929",
   "environment_variables": {},
   "exception": null,
   "input_path": "__notebook__.ipynb",
   "output_path": "__notebook__.ipynb",
   "parameters": {},
   "start_time": "2020-08-30T10:43:32.299092",
   "version": "2.1.0"
  },
  "vscode": {
   "interpreter": {
    "hash": "b0fa6594d8f4cbf19f97940f81e996739fb7646882a419484c72d19e05852a7e"
   }
  }
 },
 "nbformat": 4,
 "nbformat_minor": 4
}
